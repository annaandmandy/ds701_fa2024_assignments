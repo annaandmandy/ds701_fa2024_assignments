{
 "cells": [
  {
   "cell_type": "code",
   "execution_count": 27,
   "metadata": {
    "deletable": false,
    "editable": false
   },
   "outputs": [],
   "source": [
    "# Initialize Otter\n",
    "import otter\n",
    "grader = otter.Notebook(\"assignment2.ipynb\")"
   ]
  },
  {
   "cell_type": "markdown",
   "metadata": {},
   "source": [
    "# Linear Algebra Refresher and an Introduction to NumPy\n",
    "\n",
    "This assignment aims to refresh your understanding of key linear algebra concepts that are fundamental to data science and machine learning, with a focus on practical implementation using NumPy. NumPy (Numerical Python) is a foundational library for scientific computing in Python and is another vital tool we'll be using in this class. It provides support for large, multi-dimensional arrays and matrices, along with a vast collection of high-level mathematical functions to operate on these arrays efficiently. \n",
    "\n",
    "You'll find the [Numpy documentation](https://numpy.org/doc/stable/) useful in this assignment.\n",
    "\n",
    "You should write code in the cells marked with \"YOUR CODE HERE\" or \"...\""
   ]
  },
  {
   "cell_type": "code",
   "execution_count": 28,
   "metadata": {},
   "outputs": [],
   "source": [
    "import numpy as np\n",
    "import matplotlib.pyplot as plt\n",
    "import pandas as pd\n",
    "\n",
    "np.random.seed(701)"
   ]
  },
  {
   "cell_type": "markdown",
   "metadata": {},
   "source": [
    "## Part 1 - Basics"
   ]
  },
  {
   "cell_type": "markdown",
   "metadata": {},
   "source": [
    "You can turn a Python array, such as a list, of any dimensions into a Numpy array using `np.array()`."
   ]
  },
  {
   "cell_type": "code",
   "execution_count": 29,
   "metadata": {},
   "outputs": [
    {
     "name": "stdout",
     "output_type": "stream",
     "text": [
      "[1, 2, 3, 4, 5]\n",
      "[1 2 3 4 5]\n",
      "[[1, 2, 3], [4, 5, 6]]\n",
      "[[1 2 3]\n",
      " [4 5 6]]\n"
     ]
    }
   ],
   "source": [
    "py_array = [1, 2, 3, 4, 5]\n",
    "np_array = np.array(py_array)\n",
    "\n",
    "py_array2 = [[1, 2, 3], [4, 5, 6]]\n",
    "np_array2 = np.array(py_array2)\n",
    "\n",
    "print(py_array)\n",
    "print(np_array)\n",
    "print(py_array2)\n",
    "print(np_array2)"
   ]
  },
  {
   "cell_type": "markdown",
   "metadata": {},
   "source": [
    "#### **Question 1:** "
   ]
  },
  {
   "cell_type": "markdown",
   "metadata": {},
   "source": [
    "A very common operation is checking the shape of an array. You can check the shape of a numpy array using the `.shape` attribute. Print the shapes of the two numpy arrays we created above in the next cell."
   ]
  },
  {
   "cell_type": "markdown",
   "metadata": {
    "deletable": false,
    "editable": false
   },
   "source": [
    "<!-- BEGIN QUESTION -->\n",
    "\n"
   ]
  },
  {
   "cell_type": "code",
   "execution_count": 30,
   "metadata": {
    "deletable": false,
    "editable": false
   },
   "outputs": [],
   "source": [
    "# YOUR CODE HERE"
   ]
  },
  {
   "cell_type": "code",
   "execution_count": 31,
   "metadata": {
    "tags": []
   },
   "outputs": [
    {
     "name": "stdout",
     "output_type": "stream",
     "text": [
      "(5,) (2, 3)\n"
     ]
    }
   ],
   "source": [
    "print(np_array.shape, np_array2.shape)"
   ]
  },
  {
   "cell_type": "markdown",
   "metadata": {
    "deletable": false,
    "editable": false
   },
   "source": [
    "<!-- END QUESTION -->\n",
    "\n",
    "#### **Question 2:**"
   ]
  },
  {
   "cell_type": "markdown",
   "metadata": {
    "deletable": false,
    "editable": false
   },
   "source": [
    "Now, use the [numpy random module](https://numpy.org/doc/stable/reference/random/index.html) to create a 3x3 array of random integers from 1 to 10. "
   ]
  },
  {
   "cell_type": "code",
   "execution_count": 32,
   "metadata": {
    "tags": []
   },
   "outputs": [
    {
     "name": "stdout",
     "output_type": "stream",
     "text": [
      "3x3 array of random numbers from 1 to 10:\n",
      "[[8 2 5]\n",
      " [9 4 7]\n",
      " [7 6 9]]\n"
     ]
    }
   ],
   "source": [
    "rng = np.random.default_rng()\n",
    "random_array = rng.integers(low = 1, high = 10, size = (3,3))\n",
    "\n",
    "print(\"3x3 array of random numbers from 1 to 10:\")\n",
    "print(random_array)"
   ]
  },
  {
   "cell_type": "code",
   "execution_count": 33,
   "metadata": {
    "deletable": false,
    "editable": false
   },
   "outputs": [
    {
     "data": {
      "text/html": [
       "<p><strong><pre style='display: inline;'>q2</pre></strong> passed! 🚀</p>"
      ],
      "text/plain": [
       "q2 results: All test cases passed!"
      ]
     },
     "execution_count": 33,
     "metadata": {},
     "output_type": "execute_result"
    }
   ],
   "source": [
    "grader.check(\"q2\")"
   ]
  },
  {
   "cell_type": "markdown",
   "metadata": {},
   "source": [
    "You can perform element wise addition, subtraction, multiplication, and division on two arrays. "
   ]
  },
  {
   "cell_type": "code",
   "execution_count": 34,
   "metadata": {},
   "outputs": [
    {
     "name": "stdout",
     "output_type": "stream",
     "text": [
      "Element wise addition: [5 7 9]\n",
      "Element wise subtraction: [-3 -3 -3]\n",
      "Element wise multiplication: [ 4 10 18]\n",
      "Element wise division: [0.25 0.4  0.5 ]\n"
     ]
    }
   ],
   "source": [
    "a1 = np.array([1, 2, 3])\n",
    "a2 = np.array([4, 5, 6])\n",
    "\n",
    "print(\"Element wise addition:\", a1 + a2)\n",
    "print(\"Element wise subtraction:\", a1 - a2)\n",
    "print(\"Element wise multiplication:\", a1 * a2)\n",
    "print(\"Element wise division:\", a1 / a2)"
   ]
  },
  {
   "cell_type": "markdown",
   "metadata": {},
   "source": [
    "#### **Question 3:** "
   ]
  },
  {
   "cell_type": "markdown",
   "metadata": {
    "deletable": false,
    "editable": false
   },
   "source": [
    "Use the [`.dot` method](https://numpy.org/doc/1.21/reference/generated/numpy.ndarray.dot.html) to compute the dot product of vectors $a_1$ and $a_2$."
   ]
  },
  {
   "cell_type": "code",
   "execution_count": 35,
   "metadata": {
    "tags": []
   },
   "outputs": [],
   "source": [
    "dot_product = a1.dot(a2)"
   ]
  },
  {
   "cell_type": "code",
   "execution_count": 36,
   "metadata": {
    "deletable": false,
    "editable": false
   },
   "outputs": [
    {
     "data": {
      "text/html": [
       "<p><strong><pre style='display: inline;'>q3</pre></strong> passed! 🙌</p>"
      ],
      "text/plain": [
       "q3 results: All test cases passed!"
      ]
     },
     "execution_count": 36,
     "metadata": {},
     "output_type": "execute_result"
    }
   ],
   "source": [
    "grader.check(\"q3\")"
   ]
  },
  {
   "cell_type": "markdown",
   "metadata": {},
   "source": [
    "#### **Question 4:** "
   ]
  },
  {
   "cell_type": "markdown",
   "metadata": {
    "deletable": false,
    "editable": false
   },
   "source": [
    "Compute the matrix product of the two matrices defined below, $M_1$ and $M_2$. You can use [`np.matmul`](https://numpy.org/doc/stable/reference/generated/numpy.matmul.html) or its shorthand `@`. "
   ]
  },
  {
   "cell_type": "code",
   "execution_count": 37,
   "metadata": {
    "tags": []
   },
   "outputs": [
    {
     "name": "stdout",
     "output_type": "stream",
     "text": [
      "Matrix product of M1 and M2:\n",
      "[[19 22]\n",
      " [43 50]]\n"
     ]
    }
   ],
   "source": [
    "M1 = np.array([[1, 2], \n",
    "               [3, 4]])\n",
    "\n",
    "M2 = np.array([[5, 6], \n",
    "               [7, 8]])\n",
    "\n",
    "product = M1@M2\n",
    "\n",
    "print(\"Matrix product of M1 and M2:\")\n",
    "print(product)"
   ]
  },
  {
   "cell_type": "code",
   "execution_count": 38,
   "metadata": {
    "deletable": false,
    "editable": false
   },
   "outputs": [
    {
     "data": {
      "text/html": [
       "<p><strong><pre style='display: inline;'>q4</pre></strong> passed! 🌟</p>"
      ],
      "text/plain": [
       "q4 results: All test cases passed!"
      ]
     },
     "execution_count": 38,
     "metadata": {},
     "output_type": "execute_result"
    }
   ],
   "source": [
    "grader.check(\"q4\")"
   ]
  },
  {
   "cell_type": "markdown",
   "metadata": {},
   "source": [
    "## Broadcasting"
   ]
  },
  {
   "cell_type": "markdown",
   "metadata": {},
   "source": [
    "A key strength of Numpy is [broadcasting](https://numpy.org/doc/stable/user/basics.broadcasting.html) - treating arrays of different shapes during arithmetic operations. Let's play with it here. "
   ]
  },
  {
   "cell_type": "code",
   "execution_count": 39,
   "metadata": {},
   "outputs": [
    {
     "name": "stdout",
     "output_type": "stream",
     "text": [
      "Broadcasting a + b: [3. 4. 5.]\n",
      "Broadcasting a - b: [-1.  0.  1.]\n",
      "Broadcasting a * b: [2. 4. 6.]\n",
      "Broadcasting a / b: [0.5 1.  1.5]\n"
     ]
    }
   ],
   "source": [
    "# EXAMPLE\n",
    "a = np.array([1.0, 2.0, 3.0])\n",
    "b = 2.0\n",
    "\n",
    "print(\"Broadcasting a + b:\", a + b)\n",
    "print(\"Broadcasting a - b:\", a - b)\n",
    "print(\"Broadcasting a * b:\", a * b)\n",
    "print(\"Broadcasting a / b:\", a / b)\n"
   ]
  },
  {
   "cell_type": "markdown",
   "metadata": {
    "deletable": false,
    "editable": false
   },
   "source": [
    "#### **Question 5:** "
   ]
  },
  {
   "cell_type": "markdown",
   "metadata": {
    "deletable": false,
    "editable": false
   },
   "source": [
    "For this exercise, do the following:\n",
    "\n",
    "1. Create a 2D array called $a_1$ A with shape (3, 4) containing random integers between 1 and 10.\n",
    "   \n",
    "2. Create a 1D array called $b_1$ with shape (4,) containing random integers between 1 and 5.\n",
    "   \n",
    "3. Use broadcasting to add b to each row of A.\n",
    "   \n",
    "4. Print the original arrays and the result. "
   ]
  },
  {
   "cell_type": "code",
   "execution_count": 40,
   "metadata": {
    "tags": []
   },
   "outputs": [
    {
     "name": "stdout",
     "output_type": "stream",
     "text": [
      "A1:\n",
      "[[1 9 7 9]\n",
      " [3 8 1 9]\n",
      " [5 9 3 3]]\n",
      "B1:\n",
      "[1 1 1 2]\n",
      "Result:\n",
      "[[ 2 10  8 11]\n",
      " [ 4  9  2 11]\n",
      " [ 6 10  4  5]]\n"
     ]
    }
   ],
   "source": [
    "rng = np.random.default_rng(701)\n",
    "\n",
    "a1 = rng.integers(low = 1, high = 10, size = (3,4))\n",
    "b1 = rng.integers(low = 1, high = 5, size = 4)\n",
    "\n",
    "print(\"A1:\")\n",
    "print(a1)\n",
    "print(\"B1:\")\n",
    "print(b1)\n",
    "\n",
    "result = a1 + b1\n",
    "\n",
    "print(\"Result:\")\n",
    "print(result)"
   ]
  },
  {
   "cell_type": "code",
   "execution_count": 41,
   "metadata": {
    "deletable": false,
    "editable": false
   },
   "outputs": [
    {
     "data": {
      "text/html": [
       "<p><strong><pre style='display: inline;'>q5</pre></strong> passed! 🌟</p>"
      ],
      "text/plain": [
       "q5 results: All test cases passed!"
      ]
     },
     "execution_count": 41,
     "metadata": {},
     "output_type": "execute_result"
    }
   ],
   "source": [
    "grader.check(\"q5\")"
   ]
  },
  {
   "cell_type": "markdown",
   "metadata": {
    "deletable": false,
    "editable": false
   },
   "source": [
    "#### **Question 6:** "
   ]
  },
  {
   "cell_type": "markdown",
   "metadata": {
    "deletable": false,
    "editable": false
   },
   "source": [
    "Let's demonstrate broadcasting with a concrete example. We'll create a 100x100x3 array that will represent an RGB image (red, green, blue). Specifically, every row and column contains an array of 3 values - level of red (R), level of green (G) and level of blue (B). Every one of those values ('levels') is in the range 0 (nothing) to 255 (pure white)."
   ]
  },
  {
   "cell_type": "code",
   "execution_count": 42,
   "metadata": {
    "deletable": false,
    "editable": false
   },
   "outputs": [
    {
     "name": "stdout",
     "output_type": "stream",
     "text": [
      "Here is a random 100x100x3 image:\n"
     ]
    },
    {
     "data": {
      "image/png": "[encoded data removed]",
      "text/plain": [
       "<Figure size 640x480 with 1 Axes>"
      ]
     },
     "metadata": {},
     "output_type": "display_data"
    }
   ],
   "source": [
    "np.random.seed(701)\n",
    "\n",
    "random_image = np.random.randint(0, 255, size=(100, 100, 3))\n",
    "\n",
    "print(\"Here is a random 100x100x3 image:\")\n",
    "plt.imshow(random_image)\n",
    "plt.axis('off')\n",
    "plt.show()"
   ]
  },
  {
   "cell_type": "code",
   "execution_count": 43,
   "metadata": {
    "deletable": false,
    "editable": false
   },
   "outputs": [
    {
     "name": "stdout",
     "output_type": "stream",
     "text": [
      "Level of red (R), level of green (G) and level of blue (B) at the top left corner of the image:\n",
      "[230  84 212]\n"
     ]
    }
   ],
   "source": [
    "print(\"Level of red (R), level of green (G) and level of blue (B) at the top left corner of the image:\")\n",
    "print(random_image[0][0])"
   ]
  },
  {
   "cell_type": "markdown",
   "metadata": {
    "deletable": false,
    "editable": false
   },
   "source": [
    "We can use broadcasting to alter the colors of the image. For this exercise, create a 1D array of length 3 to represent brightness adjustments. For example, [1.1, 0.9, 1.2] to brighten red, darken green, and brighten blue (NOTE: Do NOT use numpy.random for this, create it yourself.)\n",
    "\n",
    "Then, use broadcasting to apply these adjustments to the entire image. \n",
    "\n",
    "You might need to clip the resulting values to ensure they stay within the valid range (0-255)."
   ]
  },
  {
   "cell_type": "code",
   "execution_count": 44,
   "metadata": {
    "tags": []
   },
   "outputs": [
    {
     "name": "stderr",
     "output_type": "stream",
     "text": [
      "Clipping input data to the valid range for imshow with RGB data ([0..1] for floats or [0..255] for integers). Got range [0..381].\n"
     ]
    },
    {
     "data": {
      "image/png": "[encoded data removed]",
      "text/plain": [
       "<Figure size 640x480 with 1 Axes>"
      ]
     },
     "metadata": {},
     "output_type": "display_data"
    }
   ],
   "source": [
    "from copy import deepcopy\n",
    "\n",
    "changed_image = deepcopy(random_image)\n",
    "\n",
    "brightness_adjustments = [1.5, 0.8, 1.2]\n",
    "\n",
    "changed_image = changed_image * brightness_adjustments\n",
    "\n",
    "changed_image = changed_image.astype(int)\n",
    "plt.imshow(changed_image)\n",
    "plt.axis('off')\n",
    "plt.show()"
   ]
  },
  {
   "cell_type": "markdown",
   "metadata": {
    "deletable": false,
    "editable": false
   },
   "source": [
    "Feel free to play around with the brightness adjustments! "
   ]
  },
  {
   "cell_type": "code",
   "execution_count": 45,
   "metadata": {
    "deletable": false,
    "editable": false
   },
   "outputs": [
    {
     "data": {
      "text/html": [
       "<p><strong><pre style='display: inline;'>q6</pre></strong> passed! 🎉</p>"
      ],
      "text/plain": [
       "q6 results: All test cases passed!"
      ]
     },
     "execution_count": 45,
     "metadata": {},
     "output_type": "execute_result"
    }
   ],
   "source": [
    "grader.check(\"q6\")"
   ]
  },
  {
   "cell_type": "markdown",
   "metadata": {},
   "source": [
    "## Part 2 - Linear Algebra with Numpy\n",
    "\n",
    "For this part, you should find the appropriate functions and methods from the documentation or online. "
   ]
  },
  {
   "cell_type": "markdown",
   "metadata": {
    "deletable": false,
    "editable": false
   },
   "source": [
    "#### **Question 7:** "
   ]
  },
  {
   "cell_type": "markdown",
   "metadata": {
    "deletable": false,
    "editable": false
   },
   "source": [
    "Calculate the Euclidean norm (magnitude) of the vector $v_1$."
   ]
  },
  {
   "cell_type": "code",
   "execution_count": 46,
   "metadata": {
    "tags": []
   },
   "outputs": [
    {
     "name": "stdout",
     "output_type": "stream",
     "text": [
      "Vector v1: [6 4 4 5 6 8 5 9 2 7]\n",
      "Euclidean norm of v1: 18.76166303929372\n",
      "18.76166303929372\n"
     ]
    }
   ],
   "source": [
    "np.random.seed(701)\n",
    "\n",
    "v1 = np.random.randint(0, 10, size=10)\n",
    "print(\"Vector v1:\", v1)\n",
    "\n",
    "magnitude = np.linalg.norm(v1)\n",
    "\n",
    "print(\"Euclidean norm of v1:\", magnitude)\n",
    "print(magnitude)"
   ]
  },
  {
   "cell_type": "code",
   "execution_count": 47,
   "metadata": {
    "deletable": false,
    "editable": false
   },
   "outputs": [
    {
     "data": {
      "text/html": [
       "<p><strong><pre style='display: inline;'>q7</pre></strong> passed! 🌟</p>"
      ],
      "text/plain": [
       "q7 results: All test cases passed!"
      ]
     },
     "execution_count": 47,
     "metadata": {},
     "output_type": "execute_result"
    }
   ],
   "source": [
    "grader.check(\"q7\")"
   ]
  },
  {
   "cell_type": "markdown",
   "metadata": {
    "deletable": false,
    "editable": false
   },
   "source": [
    "#### **Question 8:** Matrix Decompositions"
   ]
  },
  {
   "cell_type": "markdown",
   "metadata": {
    "deletable": false,
    "editable": false
   },
   "source": [
    "Use Numpy to get the eigenvalues and eigenvectors of a given matrix $M_3$. "
   ]
  },
  {
   "cell_type": "code",
   "execution_count": 48,
   "metadata": {
    "tags": []
   },
   "outputs": [
    {
     "name": "stdout",
     "output_type": "stream",
     "text": [
      "Eigenvalues of M3: [ 9.47493719e+01 -4.74937186e+00  2.42275300e-15]\n",
      "Eigenvectors of M3: [[-0.28263801 -0.77528584  0.40824829]\n",
      " [-0.5382937  -0.07401341 -0.81649658]\n",
      " [-0.7939494   0.62725902  0.40824829]]\n"
     ]
    }
   ],
   "source": [
    "M3 = np.array([[10, 15, 20],\n",
    "               [25, 30, 35],\n",
    "               [40, 45, 50]])\n",
    "\n",
    "eigenvalues, eigenvectors = np.linalg.eig(M3)\n",
    "\n",
    "print(\"Eigenvalues of M3:\", eigenvalues)\n",
    "print(\"Eigenvectors of M3:\", eigenvectors)"
   ]
  },
  {
   "cell_type": "markdown",
   "metadata": {
    "deletable": false,
    "editable": false
   },
   "source": [
    "Verify that $Av = λv$ for each eigenpair $(λ, v)$ you found. "
   ]
  },
  {
   "cell_type": "markdown",
   "metadata": {
    "deletable": false,
    "editable": false
   },
   "source": [
    "Reconstruct the matrix using the eigendecomposition that we [saw in class](https://tools4ds.github.io/DS701-Course-Notes/04-Linear-Algebra-Refresher.html#matrix-decompositions-1). \n"
   ]
  },
  {
   "cell_type": "code",
   "execution_count": 49,
   "metadata": {
    "tags": []
   },
   "outputs": [
    {
     "name": "stdout",
     "output_type": "stream",
     "text": [
      "Reconstructed M3: [[10. 15. 20.]\n",
      " [25. 30. 35.]\n",
      " [40. 45. 50.]]\n"
     ]
    }
   ],
   "source": [
    "M3_reconstructed = eigenvectors @ np.diag(eigenvalues) @ np.linalg.inv(eigenvectors)\n",
    "\n",
    "print(\"Reconstructed M3:\", M3_reconstructed)"
   ]
  },
  {
   "cell_type": "markdown",
   "metadata": {
    "deletable": false,
    "editable": false
   },
   "source": [
    "Decompose and reconstruct the matrix in the same manner for the Singular Value Decomposition below. "
   ]
  },
  {
   "cell_type": "markdown",
   "metadata": {
    "deletable": false,
    "editable": false
   },
   "source": [
    "### Singular Value Decomposition"
   ]
  },
  {
   "cell_type": "code",
   "execution_count": 50,
   "metadata": {
    "tags": []
   },
   "outputs": [
    {
     "name": "stdout",
     "output_type": "stream",
     "text": [
      "Singular values of M3: [9.78716491e+01 4.59785856e+00 2.26968803e-15]\n",
      "U matrix of M3: [[-0.27205092  0.87139063  0.40824829]\n",
      " [-0.53571285  0.21527907 -0.81649658]\n",
      " [-0.79937478 -0.4408325   0.40824829]]\n",
      "V matrix of M3: [[-0.49134067 -0.57344507 -0.65554946]\n",
      " [-0.76936186 -0.06703796  0.63528595]\n",
      " [-0.40824829  0.81649658 -0.40824829]]\n",
      "Reconstructed M3: [ 9.32290228e+01 -3.01388339e+01  2.53373763e-14]\n"
     ]
    }
   ],
   "source": [
    "U, s, V = np.linalg.svd(M3)\n",
    "\n",
    "print(\"Singular values of M3:\", s)\n",
    "print(\"U matrix of M3:\", U)\n",
    "print(\"V matrix of M3:\", V)\n",
    "\n",
    "M3_reconstructed = U @ s @ np.linalg.inv(V)\n",
    "print(\"Reconstructed M3:\", M3_reconstructed)"
   ]
  },
  {
   "cell_type": "code",
   "execution_count": 51,
   "metadata": {
    "deletable": false,
    "editable": false
   },
   "outputs": [
    {
     "data": {
      "text/html": [
       "<p><strong><pre style='display: inline;'>q8</pre></strong> passed! 🍀</p>"
      ],
      "text/plain": [
       "q8 results: All test cases passed!"
      ]
     },
     "execution_count": 51,
     "metadata": {},
     "output_type": "execute_result"
    }
   ],
   "source": [
    "grader.check(\"q8\")"
   ]
  },
  {
   "cell_type": "markdown",
   "metadata": {
    "deletable": false,
    "editable": false
   },
   "source": [
    "## Submission\n",
    "\n",
    "Make sure you have run all cells in your notebook in order before running the cell below, so that all images/graphs appear in the output. The cell below will generate a zip file for you to submit. **Please save before exporting!**\n",
    "\n",
    "These are some submission instructions."
   ]
  },
  {
   "cell_type": "code",
   "execution_count": 26,
   "metadata": {
    "deletable": false,
    "editable": false
   },
   "outputs": [
    {
     "name": "stderr",
     "output_type": "stream",
     "text": [
      "/home/huanghy/miniconda3/lib/python3.12/site-packages/otter/check/notebook.py:470: UserWarning: Could not locate a PDF to include\n",
      "  warnings.warn(\"Could not locate a PDF to include\")\n"
     ]
    },
    {
     "ename": "PandocMissing",
     "evalue": "Pandoc wasn't found.\nPlease check that pandoc is installed:\nhttps://pandoc.org/installing.html",
     "output_type": "error",
     "traceback": [
      "\u001b[0;31m---------------------------------------------------------------------------\u001b[0m",
      "\u001b[0;31mPandocMissing\u001b[0m                             Traceback (most recent call last)",
      "Cell \u001b[0;32mIn[26], line 2\u001b[0m\n\u001b[1;32m      1\u001b[0m \u001b[38;5;66;03m# Save your notebook first, then run this cell to export your submission.\u001b[39;00m\n\u001b[0;32m----> 2\u001b[0m \u001b[43mgrader\u001b[49m\u001b[38;5;241;43m.\u001b[39;49m\u001b[43mexport\u001b[49m\u001b[43m(\u001b[49m\u001b[43mrun_tests\u001b[49m\u001b[38;5;241;43m=\u001b[39;49m\u001b[38;5;28;43;01mTrue\u001b[39;49;00m\u001b[43m)\u001b[49m\n",
      "File \u001b[0;32m~/miniconda3/lib/python3.12/site-packages/otter/check/utils.py:184\u001b[0m, in \u001b[0;36mgrading_mode_disabled\u001b[0;34m(wrapped, self, args, kwargs)\u001b[0m\n\u001b[1;32m    182\u001b[0m \u001b[38;5;28;01mif\u001b[39;00m \u001b[38;5;28mtype\u001b[39m(\u001b[38;5;28mself\u001b[39m)\u001b[38;5;241m.\u001b[39m_grading_mode:\n\u001b[1;32m    183\u001b[0m     \u001b[38;5;28;01mreturn\u001b[39;00m\n\u001b[0;32m--> 184\u001b[0m \u001b[38;5;28;01mreturn\u001b[39;00m \u001b[43mwrapped\u001b[49m\u001b[43m(\u001b[49m\u001b[38;5;241;43m*\u001b[39;49m\u001b[43margs\u001b[49m\u001b[43m,\u001b[49m\u001b[43m \u001b[49m\u001b[38;5;241;43m*\u001b[39;49m\u001b[38;5;241;43m*\u001b[39;49m\u001b[43mkwargs\u001b[49m\u001b[43m)\u001b[49m\n",
      "File \u001b[0;32m~/miniconda3/lib/python3.12/site-packages/otter/check/utils.py:166\u001b[0m, in \u001b[0;36mincompatible_with.<locals>.incompatible\u001b[0;34m(wrapped, self, args, kwargs)\u001b[0m\n\u001b[1;32m    164\u001b[0m     \u001b[38;5;28;01melse\u001b[39;00m:\n\u001b[1;32m    165\u001b[0m         \u001b[38;5;28;01mreturn\u001b[39;00m\n\u001b[0;32m--> 166\u001b[0m \u001b[38;5;28;01mreturn\u001b[39;00m \u001b[43mwrapped\u001b[49m\u001b[43m(\u001b[49m\u001b[38;5;241;43m*\u001b[39;49m\u001b[43margs\u001b[49m\u001b[43m,\u001b[49m\u001b[43m \u001b[49m\u001b[38;5;241;43m*\u001b[39;49m\u001b[38;5;241;43m*\u001b[39;49m\u001b[43mkwargs\u001b[49m\u001b[43m)\u001b[49m\n",
      "File \u001b[0;32m~/miniconda3/lib/python3.12/site-packages/otter/check/utils.py:217\u001b[0m, in \u001b[0;36mlogs_event.<locals>.event_logger\u001b[0;34m(wrapped, self, args, kwargs)\u001b[0m\n\u001b[1;32m    215\u001b[0m \u001b[38;5;28;01mexcept\u001b[39;00m \u001b[38;5;167;01mException\u001b[39;00m \u001b[38;5;28;01mas\u001b[39;00m e:\n\u001b[1;32m    216\u001b[0m     \u001b[38;5;28mself\u001b[39m\u001b[38;5;241m.\u001b[39m_log_event(event_type, success\u001b[38;5;241m=\u001b[39m\u001b[38;5;28;01mFalse\u001b[39;00m, error\u001b[38;5;241m=\u001b[39me)\n\u001b[0;32m--> 217\u001b[0m     \u001b[38;5;28;01mraise\u001b[39;00m e\n\u001b[1;32m    219\u001b[0m \u001b[38;5;28;01mif\u001b[39;00m ret \u001b[38;5;129;01mis\u001b[39;00m \u001b[38;5;28;01mNone\u001b[39;00m:\n\u001b[1;32m    220\u001b[0m     ret \u001b[38;5;241m=\u001b[39m LoggedEventReturnValue(\u001b[38;5;28;01mNone\u001b[39;00m)\n",
      "File \u001b[0;32m~/miniconda3/lib/python3.12/site-packages/otter/check/utils.py:213\u001b[0m, in \u001b[0;36mlogs_event.<locals>.event_logger\u001b[0;34m(wrapped, self, args, kwargs)\u001b[0m\n\u001b[1;32m    208\u001b[0m \u001b[38;5;250m\u001b[39m\u001b[38;5;124;03m\"\"\"\u001b[39;00m\n\u001b[1;32m    209\u001b[0m \u001b[38;5;124;03mRuns a method, catching any errors and logging the call. Returns the unwrapped return value\u001b[39;00m\n\u001b[1;32m    210\u001b[0m \u001b[38;5;124;03mof the wrapped function.\u001b[39;00m\n\u001b[1;32m    211\u001b[0m \u001b[38;5;124;03m\"\"\"\u001b[39;00m\n\u001b[1;32m    212\u001b[0m \u001b[38;5;28;01mtry\u001b[39;00m:\n\u001b[0;32m--> 213\u001b[0m     ret: Optional[LoggedEventReturnValue[T]] \u001b[38;5;241m=\u001b[39m \u001b[43mwrapped\u001b[49m\u001b[43m(\u001b[49m\u001b[38;5;241;43m*\u001b[39;49m\u001b[43margs\u001b[49m\u001b[43m,\u001b[49m\u001b[43m \u001b[49m\u001b[38;5;241;43m*\u001b[39;49m\u001b[38;5;241;43m*\u001b[39;49m\u001b[43mkwargs\u001b[49m\u001b[43m)\u001b[49m\n\u001b[1;32m    215\u001b[0m \u001b[38;5;28;01mexcept\u001b[39;00m \u001b[38;5;167;01mException\u001b[39;00m \u001b[38;5;28;01mas\u001b[39;00m e:\n\u001b[1;32m    216\u001b[0m     \u001b[38;5;28mself\u001b[39m\u001b[38;5;241m.\u001b[39m_log_event(event_type, success\u001b[38;5;241m=\u001b[39m\u001b[38;5;28;01mFalse\u001b[39;00m, error\u001b[38;5;241m=\u001b[39me)\n",
      "File \u001b[0;32m~/miniconda3/lib/python3.12/site-packages/otter/check/notebook.py:525\u001b[0m, in \u001b[0;36mNotebook.export\u001b[0;34m(self, nb_path, export_path, pdf, filtering, pagebreaks, files, display_link, force_save, run_tests)\u001b[0m\n\u001b[1;32m    523\u001b[0m \u001b[38;5;28;01mif\u001b[39;00m pdf_created \u001b[38;5;129;01mor\u001b[39;00m \u001b[38;5;129;01mnot\u001b[39;00m \u001b[38;5;28mself\u001b[39m\u001b[38;5;241m.\u001b[39m_nbmeta_config\u001b[38;5;241m.\u001b[39mrequire_no_pdf_confirmation:\n\u001b[1;32m    524\u001b[0m     \u001b[38;5;28;01mif\u001b[39;00m pdf_error \u001b[38;5;129;01mis\u001b[39;00m \u001b[38;5;129;01mnot\u001b[39;00m \u001b[38;5;28;01mNone\u001b[39;00m:\n\u001b[0;32m--> 525\u001b[0m         \u001b[38;5;28;01mraise\u001b[39;00m pdf_error\n\u001b[1;32m    526\u001b[0m     continue_export()\n\u001b[1;32m    527\u001b[0m \u001b[38;5;28;01melse\u001b[39;00m:\n",
      "File \u001b[0;32m~/miniconda3/lib/python3.12/site-packages/otter/check/notebook.py:462\u001b[0m, in \u001b[0;36mNotebook.export\u001b[0;34m(self, nb_path, export_path, pdf, filtering, pagebreaks, files, display_link, force_save, run_tests)\u001b[0m\n\u001b[1;32m    460\u001b[0m pdf_path, pdf_created, pdf_error \u001b[38;5;241m=\u001b[39m \u001b[38;5;28;01mNone\u001b[39;00m, \u001b[38;5;28;01mTrue\u001b[39;00m, \u001b[38;5;28;01mNone\u001b[39;00m\n\u001b[1;32m    461\u001b[0m \u001b[38;5;28;01mif\u001b[39;00m pdf:\n\u001b[0;32m--> 462\u001b[0m     \u001b[38;5;28;01mtry\u001b[39;00m: pdf_path \u001b[38;5;241m=\u001b[39m \u001b[43mexport_notebook\u001b[49m\u001b[43m(\u001b[49m\u001b[43mnb_path\u001b[49m\u001b[43m,\u001b[49m\u001b[43m \u001b[49m\u001b[43mfiltering\u001b[49m\u001b[38;5;241;43m=\u001b[39;49m\u001b[43mfiltering\u001b[49m\u001b[43m,\u001b[49m\u001b[43m \u001b[49m\u001b[43mpagebreaks\u001b[49m\u001b[38;5;241;43m=\u001b[39;49m\u001b[43mpagebreaks\u001b[49m\u001b[43m)\u001b[49m\n\u001b[1;32m    463\u001b[0m     \u001b[38;5;28;01mexcept\u001b[39;00m \u001b[38;5;167;01mException\u001b[39;00m \u001b[38;5;28;01mas\u001b[39;00m e: pdf_error \u001b[38;5;241m=\u001b[39m e\n\u001b[1;32m    464\u001b[0m     \u001b[38;5;28;01mif\u001b[39;00m pdf_path \u001b[38;5;129;01mand\u001b[39;00m os\u001b[38;5;241m.\u001b[39mpath\u001b[38;5;241m.\u001b[39misfile(pdf_path):\n",
      "File \u001b[0;32m~/miniconda3/lib/python3.12/site-packages/otter/export/__init__.py:36\u001b[0m, in \u001b[0;36mexport_notebook\u001b[0;34m(nb_path, dest, exporter_type, **kwargs)\u001b[0m\n\u001b[1;32m     33\u001b[0m     pdf_name \u001b[38;5;241m=\u001b[39m os\u001b[38;5;241m.\u001b[39mpath\u001b[38;5;241m.\u001b[39msplitext(nb_path)[\u001b[38;5;241m0\u001b[39m] \u001b[38;5;241m+\u001b[39m \u001b[38;5;124m\"\u001b[39m\u001b[38;5;124m.pdf\u001b[39m\u001b[38;5;124m\"\u001b[39m\n\u001b[1;32m     35\u001b[0m Exporter \u001b[38;5;241m=\u001b[39m get_exporter(exporter_type\u001b[38;5;241m=\u001b[39mexporter_type)\n\u001b[0;32m---> 36\u001b[0m \u001b[43mExporter\u001b[49m\u001b[38;5;241;43m.\u001b[39;49m\u001b[43mconvert_notebook\u001b[49m\u001b[43m(\u001b[49m\u001b[43mnb_path\u001b[49m\u001b[43m,\u001b[49m\u001b[43m \u001b[49m\u001b[43mpdf_name\u001b[49m\u001b[43m,\u001b[49m\u001b[43m \u001b[49m\u001b[38;5;241;43m*\u001b[39;49m\u001b[38;5;241;43m*\u001b[39;49m\u001b[43mkwargs\u001b[49m\u001b[43m)\u001b[49m\n\u001b[1;32m     38\u001b[0m \u001b[38;5;28;01mreturn\u001b[39;00m pdf_name\n",
      "File \u001b[0;32m~/miniconda3/lib/python3.12/site-packages/otter/export/exporters/via_latex.py:66\u001b[0m, in \u001b[0;36mPDFViaLatexExporter.convert_notebook\u001b[0;34m(cls, nb_path, dest, xecjk, **kwargs)\u001b[0m\n\u001b[1;32m     63\u001b[0m     \u001b[38;5;28;01mwith\u001b[39;00m \u001b[38;5;28mopen\u001b[39m(os\u001b[38;5;241m.\u001b[39mpath\u001b[38;5;241m.\u001b[39msplitext(dest)[\u001b[38;5;241m0\u001b[39m] \u001b[38;5;241m+\u001b[39m \u001b[38;5;124m\"\u001b[39m\u001b[38;5;124m.tex\u001b[39m\u001b[38;5;124m\"\u001b[39m, \u001b[38;5;124m\"\u001b[39m\u001b[38;5;124mw+\u001b[39m\u001b[38;5;124m\"\u001b[39m) \u001b[38;5;28;01mas\u001b[39;00m output_file:\n\u001b[1;32m     64\u001b[0m         output_file\u001b[38;5;241m.\u001b[39mwrite(latex_output[\u001b[38;5;241m0\u001b[39m])\n\u001b[0;32m---> 66\u001b[0m pdf_output \u001b[38;5;241m=\u001b[39m \u001b[43mnbconvert\u001b[49m\u001b[38;5;241;43m.\u001b[39;49m\u001b[43mexport\u001b[49m\u001b[43m(\u001b[49m\u001b[43mpdf_exporter\u001b[49m\u001b[43m,\u001b[49m\u001b[43m \u001b[49m\u001b[43mnb\u001b[49m\u001b[43m)\u001b[49m\n\u001b[1;32m     67\u001b[0m \u001b[38;5;28;01mwith\u001b[39;00m \u001b[38;5;28mopen\u001b[39m(dest, \u001b[38;5;124m\"\u001b[39m\u001b[38;5;124mwb\u001b[39m\u001b[38;5;124m\"\u001b[39m) \u001b[38;5;28;01mas\u001b[39;00m output_file:\n\u001b[1;32m     68\u001b[0m     output_file\u001b[38;5;241m.\u001b[39mwrite(pdf_output[\u001b[38;5;241m0\u001b[39m])\n",
      "File \u001b[0;32m~/miniconda3/lib/python3.12/site-packages/nbconvert/exporters/base.py:86\u001b[0m, in \u001b[0;36mexport\u001b[0;34m(exporter, nb, **kw)\u001b[0m\n\u001b[1;32m     84\u001b[0m \u001b[38;5;66;03m# Try to convert the notebook using the appropriate conversion function.\u001b[39;00m\n\u001b[1;32m     85\u001b[0m \u001b[38;5;28;01mif\u001b[39;00m \u001b[38;5;28misinstance\u001b[39m(nb, NotebookNode):\n\u001b[0;32m---> 86\u001b[0m     output, resources \u001b[38;5;241m=\u001b[39m \u001b[43mexporter_instance\u001b[49m\u001b[38;5;241;43m.\u001b[39;49m\u001b[43mfrom_notebook_node\u001b[49m\u001b[43m(\u001b[49m\u001b[43mnb\u001b[49m\u001b[43m,\u001b[49m\u001b[43m \u001b[49m\u001b[43mresources\u001b[49m\u001b[43m)\u001b[49m\n\u001b[1;32m     87\u001b[0m \u001b[38;5;28;01melif\u001b[39;00m \u001b[38;5;28misinstance\u001b[39m(nb, (\u001b[38;5;28mstr\u001b[39m,)):\n\u001b[1;32m     88\u001b[0m     output, resources \u001b[38;5;241m=\u001b[39m exporter_instance\u001b[38;5;241m.\u001b[39mfrom_filename(nb, resources)\n",
      "File \u001b[0;32m~/miniconda3/lib/python3.12/site-packages/nbconvert/exporters/pdf.py:184\u001b[0m, in \u001b[0;36mPDFExporter.from_notebook_node\u001b[0;34m(self, nb, resources, **kw)\u001b[0m\n\u001b[1;32m    182\u001b[0m \u001b[38;5;28;01mdef\u001b[39;00m \u001b[38;5;21mfrom_notebook_node\u001b[39m(\u001b[38;5;28mself\u001b[39m, nb, resources\u001b[38;5;241m=\u001b[39m\u001b[38;5;28;01mNone\u001b[39;00m, \u001b[38;5;241m*\u001b[39m\u001b[38;5;241m*\u001b[39mkw):\n\u001b[1;32m    183\u001b[0m \u001b[38;5;250m    \u001b[39m\u001b[38;5;124;03m\"\"\"Convert from notebook node.\"\"\"\u001b[39;00m\n\u001b[0;32m--> 184\u001b[0m     latex, resources \u001b[38;5;241m=\u001b[39m \u001b[38;5;28;43msuper\u001b[39;49m\u001b[43m(\u001b[49m\u001b[43m)\u001b[49m\u001b[38;5;241;43m.\u001b[39;49m\u001b[43mfrom_notebook_node\u001b[49m\u001b[43m(\u001b[49m\u001b[43mnb\u001b[49m\u001b[43m,\u001b[49m\u001b[43m \u001b[49m\u001b[43mresources\u001b[49m\u001b[38;5;241;43m=\u001b[39;49m\u001b[43mresources\u001b[49m\u001b[43m,\u001b[49m\u001b[43m \u001b[49m\u001b[38;5;241;43m*\u001b[39;49m\u001b[38;5;241;43m*\u001b[39;49m\u001b[43mkw\u001b[49m\u001b[43m)\u001b[49m\n\u001b[1;32m    185\u001b[0m     \u001b[38;5;66;03m# set texinputs directory, so that local files will be found\u001b[39;00m\n\u001b[1;32m    186\u001b[0m     \u001b[38;5;28;01mif\u001b[39;00m resources \u001b[38;5;129;01mand\u001b[39;00m resources\u001b[38;5;241m.\u001b[39mget(\u001b[38;5;124m\"\u001b[39m\u001b[38;5;124mmetadata\u001b[39m\u001b[38;5;124m\"\u001b[39m, {})\u001b[38;5;241m.\u001b[39mget(\u001b[38;5;124m\"\u001b[39m\u001b[38;5;124mpath\u001b[39m\u001b[38;5;124m\"\u001b[39m):\n",
      "File \u001b[0;32m~/miniconda3/lib/python3.12/site-packages/nbconvert/exporters/latex.py:92\u001b[0m, in \u001b[0;36mLatexExporter.from_notebook_node\u001b[0;34m(self, nb, resources, **kw)\u001b[0m\n\u001b[1;32m     86\u001b[0m convert_explicitly_relative_paths \u001b[38;5;241m=\u001b[39m \u001b[38;5;28mself\u001b[39m\u001b[38;5;241m.\u001b[39mfilters\u001b[38;5;241m.\u001b[39mget(\n\u001b[1;32m     87\u001b[0m     \u001b[38;5;124m\"\u001b[39m\u001b[38;5;124mconvert_explicitly_relative_paths\u001b[39m\u001b[38;5;124m\"\u001b[39m,\n\u001b[1;32m     88\u001b[0m     ConvertExplicitlyRelativePaths(texinputs\u001b[38;5;241m=\u001b[39mtexinputs, parent\u001b[38;5;241m=\u001b[39m\u001b[38;5;28mself\u001b[39m),\n\u001b[1;32m     89\u001b[0m )\n\u001b[1;32m     90\u001b[0m \u001b[38;5;28mself\u001b[39m\u001b[38;5;241m.\u001b[39mregister_filter(\u001b[38;5;124m\"\u001b[39m\u001b[38;5;124mconvert_explicitly_relative_paths\u001b[39m\u001b[38;5;124m\"\u001b[39m, convert_explicitly_relative_paths)\n\u001b[0;32m---> 92\u001b[0m \u001b[38;5;28;01mreturn\u001b[39;00m \u001b[38;5;28;43msuper\u001b[39;49m\u001b[43m(\u001b[49m\u001b[43m)\u001b[49m\u001b[38;5;241;43m.\u001b[39;49m\u001b[43mfrom_notebook_node\u001b[49m\u001b[43m(\u001b[49m\u001b[43mnb\u001b[49m\u001b[43m,\u001b[49m\u001b[43m \u001b[49m\u001b[43mresources\u001b[49m\u001b[43m,\u001b[49m\u001b[43m \u001b[49m\u001b[38;5;241;43m*\u001b[39;49m\u001b[38;5;241;43m*\u001b[39;49m\u001b[43mkw\u001b[49m\u001b[43m)\u001b[49m\n",
      "File \u001b[0;32m~/miniconda3/lib/python3.12/site-packages/nbconvert/exporters/templateexporter.py:424\u001b[0m, in \u001b[0;36mTemplateExporter.from_notebook_node\u001b[0;34m(self, nb, resources, **kw)\u001b[0m\n\u001b[1;32m    410\u001b[0m resources[\u001b[38;5;124m\"\u001b[39m\u001b[38;5;124mglobal_content_filter\u001b[39m\u001b[38;5;124m\"\u001b[39m] \u001b[38;5;241m=\u001b[39m {\n\u001b[1;32m    411\u001b[0m     \u001b[38;5;124m\"\u001b[39m\u001b[38;5;124minclude_code\u001b[39m\u001b[38;5;124m\"\u001b[39m: \u001b[38;5;129;01mnot\u001b[39;00m \u001b[38;5;28mself\u001b[39m\u001b[38;5;241m.\u001b[39mexclude_code_cell,\n\u001b[1;32m    412\u001b[0m     \u001b[38;5;124m\"\u001b[39m\u001b[38;5;124minclude_markdown\u001b[39m\u001b[38;5;124m\"\u001b[39m: \u001b[38;5;129;01mnot\u001b[39;00m \u001b[38;5;28mself\u001b[39m\u001b[38;5;241m.\u001b[39mexclude_markdown,\n\u001b[0;32m   (...)\u001b[0m\n\u001b[1;32m    420\u001b[0m     \u001b[38;5;124m\"\u001b[39m\u001b[38;5;124mno_prompt\u001b[39m\u001b[38;5;124m\"\u001b[39m: \u001b[38;5;28mself\u001b[39m\u001b[38;5;241m.\u001b[39mexclude_input_prompt \u001b[38;5;129;01mand\u001b[39;00m \u001b[38;5;28mself\u001b[39m\u001b[38;5;241m.\u001b[39mexclude_output_prompt,\n\u001b[1;32m    421\u001b[0m }\n\u001b[1;32m    423\u001b[0m \u001b[38;5;66;03m# Top level variables are passed to the template_exporter here.\u001b[39;00m\n\u001b[0;32m--> 424\u001b[0m output \u001b[38;5;241m=\u001b[39m \u001b[38;5;28;43mself\u001b[39;49m\u001b[38;5;241;43m.\u001b[39;49m\u001b[43mtemplate\u001b[49m\u001b[38;5;241;43m.\u001b[39;49m\u001b[43mrender\u001b[49m\u001b[43m(\u001b[49m\u001b[43mnb\u001b[49m\u001b[38;5;241;43m=\u001b[39;49m\u001b[43mnb_copy\u001b[49m\u001b[43m,\u001b[49m\u001b[43m \u001b[49m\u001b[43mresources\u001b[49m\u001b[38;5;241;43m=\u001b[39;49m\u001b[43mresources\u001b[49m\u001b[43m)\u001b[49m\n\u001b[1;32m    425\u001b[0m output \u001b[38;5;241m=\u001b[39m output\u001b[38;5;241m.\u001b[39mlstrip(\u001b[38;5;124m\"\u001b[39m\u001b[38;5;130;01m\\r\u001b[39;00m\u001b[38;5;130;01m\\n\u001b[39;00m\u001b[38;5;124m\"\u001b[39m)\n\u001b[1;32m    426\u001b[0m \u001b[38;5;28;01mreturn\u001b[39;00m output, resources\n",
      "File \u001b[0;32m~/miniconda3/lib/python3.12/site-packages/jinja2/environment.py:1304\u001b[0m, in \u001b[0;36mTemplate.render\u001b[0;34m(self, *args, **kwargs)\u001b[0m\n\u001b[1;32m   1302\u001b[0m     \u001b[38;5;28;01mreturn\u001b[39;00m \u001b[38;5;28mself\u001b[39m\u001b[38;5;241m.\u001b[39menvironment\u001b[38;5;241m.\u001b[39mconcat(\u001b[38;5;28mself\u001b[39m\u001b[38;5;241m.\u001b[39mroot_render_func(ctx))  \u001b[38;5;66;03m# type: ignore\u001b[39;00m\n\u001b[1;32m   1303\u001b[0m \u001b[38;5;28;01mexcept\u001b[39;00m \u001b[38;5;167;01mException\u001b[39;00m:\n\u001b[0;32m-> 1304\u001b[0m     \u001b[38;5;28;43mself\u001b[39;49m\u001b[38;5;241;43m.\u001b[39;49m\u001b[43menvironment\u001b[49m\u001b[38;5;241;43m.\u001b[39;49m\u001b[43mhandle_exception\u001b[49m\u001b[43m(\u001b[49m\u001b[43m)\u001b[49m\n",
      "File \u001b[0;32m~/miniconda3/lib/python3.12/site-packages/jinja2/environment.py:939\u001b[0m, in \u001b[0;36mEnvironment.handle_exception\u001b[0;34m(self, source)\u001b[0m\n\u001b[1;32m    934\u001b[0m \u001b[38;5;250m\u001b[39m\u001b[38;5;124;03m\"\"\"Exception handling helper.  This is used internally to either raise\u001b[39;00m\n\u001b[1;32m    935\u001b[0m \u001b[38;5;124;03mrewritten exceptions or return a rendered traceback for the template.\u001b[39;00m\n\u001b[1;32m    936\u001b[0m \u001b[38;5;124;03m\"\"\"\u001b[39;00m\n\u001b[1;32m    937\u001b[0m \u001b[38;5;28;01mfrom\u001b[39;00m \u001b[38;5;21;01m.\u001b[39;00m\u001b[38;5;21;01mdebug\u001b[39;00m \u001b[38;5;28;01mimport\u001b[39;00m rewrite_traceback_stack\n\u001b[0;32m--> 939\u001b[0m \u001b[38;5;28;01mraise\u001b[39;00m rewrite_traceback_stack(source\u001b[38;5;241m=\u001b[39msource)\n",
      "File \u001b[0;32m~/miniconda3/lib/python3.12/site-packages/otter/export/exporters/templates/via_latex/index.tex.j2:7\u001b[0m, in \u001b[0;36mtop-level template code\u001b[0;34m()\u001b[0m\n\u001b[1;32m      5\u001b[0m \n\u001b[1;32m      6\u001b[0m % Inherit from the specified cell style.\n\u001b[0;32m----> 7\u001b[0m ((* extends cell_style *))\n\u001b[1;32m      8\u001b[0m \n\u001b[1;32m      9\u001b[0m \n",
      "File \u001b[0;32m~/miniconda3/share/jupyter/nbconvert/templates/latex/style_ipython.tex.j2:68\u001b[0m, in \u001b[0;36mtop-level template code\u001b[0;34m()\u001b[0m\n\u001b[1;32m     66\u001b[0m     ((*- set indention =  \" \" * (execution_count | length + 7) -*))\n\u001b[1;32m     67\u001b[0m \\begin{Verbatim}[commandchars=\\\\\\{\\}]\n\u001b[0;32m---> 68\u001b[0m ((( text | add_prompts(first='{\\\\color{' ~ prompt_color ~ '}' ~ prompt ~ '[{\\\\color{' ~ prompt_color ~ '}' ~ execution_count ~ '}]:} ', cont=indention) )))\n\u001b[1;32m     69\u001b[0m \\end{Verbatim}\n\u001b[1;32m     70\u001b[0m ((*- endmacro *))\n",
      "File \u001b[0;32m~/miniconda3/share/jupyter/nbconvert/templates/latex/base.tex.j2:7\u001b[0m, in \u001b[0;36mtop-level template code\u001b[0;34m()\u001b[0m\n\u001b[1;32m      5\u001b[0m override this.-=))\n\u001b[1;32m      6\u001b[0m \n\u001b[0;32m----> 7\u001b[0m ((*- extends 'document_contents.tex.j2' -*))\n\u001b[1;32m      8\u001b[0m \n\u001b[1;32m      9\u001b[0m %===============================================================================\n",
      "File \u001b[0;32m~/miniconda3/share/jupyter/nbconvert/templates/latex/document_contents.tex.j2:51\u001b[0m, in \u001b[0;36mtop-level template code\u001b[0;34m()\u001b[0m\n\u001b[1;32m     49\u001b[0m ((* macro draw_figure(filename) -*))\n\u001b[1;32m     50\u001b[0m ((* set filename = filename | posix_path *))\n\u001b[0;32m---> 51\u001b[0m ((*- block figure scoped -*))\n\u001b[1;32m     52\u001b[0m     \\begin{center}\n\u001b[1;32m     53\u001b[0m     \\adjustimage{max size={0.9\\linewidth}{0.9\\paperheight}}{((( filename )))}\n",
      "File \u001b[0;32m~/miniconda3/share/jupyter/nbconvert/templates/latex/display_priority.j2:5\u001b[0m, in \u001b[0;36mtop-level template code\u001b[0;34m()\u001b[0m\n\u001b[1;32m      3\u001b[0m \n\u001b[1;32m      4\u001b[0m \n\u001b[0;32m----> 5\u001b[0m ((*- extends 'null.j2' -*))\n\u001b[1;32m      6\u001b[0m \n\u001b[1;32m      7\u001b[0m ((=display data priority=))\n",
      "File \u001b[0;32m~/miniconda3/share/jupyter/nbconvert/templates/latex/null.j2:30\u001b[0m, in \u001b[0;36mtop-level template code\u001b[0;34m()\u001b[0m\n\u001b[1;32m     28\u001b[0m ((*- block header -*))\n\u001b[1;32m     29\u001b[0m ((*- endblock header -*))\n\u001b[0;32m---> 30\u001b[0m ((*- block body -*))\n\u001b[1;32m     31\u001b[0m ((*- for cell in nb.cells -*))\n\u001b[1;32m     32\u001b[0m     ((*- block any_cell scoped -*))\n",
      "File \u001b[0;32m~/miniconda3/share/jupyter/nbconvert/templates/latex/base.tex.j2:222\u001b[0m, in \u001b[0;36mblock 'body'\u001b[0;34m()\u001b[0m\n\u001b[1;32m    220\u001b[0m ((* endblock predoc *))\n\u001b[1;32m    221\u001b[0m \n\u001b[0;32m--> 222\u001b[0m ((( super() )))\n\u001b[1;32m    223\u001b[0m \n\u001b[1;32m    224\u001b[0m % Add a bibliography block to the postdoc\n",
      "File \u001b[0;32m~/miniconda3/share/jupyter/nbconvert/templates/latex/null.j2:32\u001b[0m, in \u001b[0;36mblock 'body'\u001b[0;34m()\u001b[0m\n\u001b[1;32m     30\u001b[0m ((*- block body -*))\n\u001b[1;32m     31\u001b[0m ((*- for cell in nb.cells -*))\n\u001b[0;32m---> 32\u001b[0m     ((*- block any_cell scoped -*))\n\u001b[1;32m     33\u001b[0m         ((*- if cell.cell_type == 'code'-*))\n\u001b[1;32m     34\u001b[0m             ((*- if resources.global_content_filter.include_code -*))\n",
      "File \u001b[0;32m~/miniconda3/share/jupyter/nbconvert/templates/latex/null.j2:85\u001b[0m, in \u001b[0;36mblock 'any_cell'\u001b[0;34m()\u001b[0m\n\u001b[1;32m     83\u001b[0m ((*- elif cell.cell_type in ['markdown'] -*))\n\u001b[1;32m     84\u001b[0m     ((*- if resources.global_content_filter.include_markdown and not cell.metadata.get(\"transient\",{}).get(\"remove_source\", false) -*))\n\u001b[0;32m---> 85\u001b[0m         ((*- block markdowncell scoped-*)) ((*- endblock markdowncell -*))\n\u001b[1;32m     86\u001b[0m     ((*- endif -*))\n\u001b[1;32m     87\u001b[0m ((*- elif cell.cell_type in ['raw'] -*))\n",
      "File \u001b[0;32m~/miniconda3/lib/python3.12/site-packages/otter/export/exporters/templates/via_latex/index.tex.j2:32\u001b[0m, in \u001b[0;36mblock 'markdowncell'\u001b[0;34m()\u001b[0m\n\u001b[1;32m     30\u001b[0m \t\t\\cleartooddpage\n\u001b[1;32m     31\u001b[0m         ((*- endif -*))\n\u001b[0;32m---> 32\u001b[0m ((( super() )))\n\u001b[1;32m     33\u001b[0m ((* endblock markdowncell *))\n\u001b[1;32m     34\u001b[0m \n",
      "File \u001b[0;32m~/miniconda3/share/jupyter/nbconvert/templates/latex/document_contents.tex.j2:68\u001b[0m, in \u001b[0;36mblock 'markdowncell'\u001b[0;34m()\u001b[0m\n\u001b[1;32m     66\u001b[0m % Render markdown\n\u001b[1;32m     67\u001b[0m ((* block markdowncell scoped *))\n\u001b[0;32m---> 68\u001b[0m     ((( cell.source | citation2latex | strip_files_prefix | convert_pandoc('markdown+tex_math_double_backslash', 'json',extra_args=[]) | resolve_references | convert_explicitly_relative_paths | convert_pandoc('json','latex'))))\n\u001b[1;32m     69\u001b[0m ((* endblock markdowncell *))\n\u001b[1;32m     70\u001b[0m \n",
      "File \u001b[0;32m~/miniconda3/lib/python3.12/site-packages/nbconvert/filters/pandoc.py:36\u001b[0m, in \u001b[0;36mconvert_pandoc\u001b[0;34m(source, from_format, to_format, extra_args)\u001b[0m\n\u001b[1;32m     16\u001b[0m \u001b[38;5;28;01mdef\u001b[39;00m \u001b[38;5;21mconvert_pandoc\u001b[39m(source, from_format, to_format, extra_args\u001b[38;5;241m=\u001b[39m\u001b[38;5;28;01mNone\u001b[39;00m):\n\u001b[1;32m     17\u001b[0m \u001b[38;5;250m    \u001b[39m\u001b[38;5;124;03m\"\"\"Convert between any two formats using pandoc.\u001b[39;00m\n\u001b[1;32m     18\u001b[0m \n\u001b[1;32m     19\u001b[0m \u001b[38;5;124;03m    This function will raise an error if pandoc is not installed.\u001b[39;00m\n\u001b[0;32m   (...)\u001b[0m\n\u001b[1;32m     34\u001b[0m \u001b[38;5;124;03m        Output as returned by pandoc.\u001b[39;00m\n\u001b[1;32m     35\u001b[0m \u001b[38;5;124;03m    \"\"\"\u001b[39;00m\n\u001b[0;32m---> 36\u001b[0m     \u001b[38;5;28;01mreturn\u001b[39;00m \u001b[43mpandoc\u001b[49m\u001b[43m(\u001b[49m\u001b[43msource\u001b[49m\u001b[43m,\u001b[49m\u001b[43m \u001b[49m\u001b[43mfrom_format\u001b[49m\u001b[43m,\u001b[49m\u001b[43m \u001b[49m\u001b[43mto_format\u001b[49m\u001b[43m,\u001b[49m\u001b[43m \u001b[49m\u001b[43mextra_args\u001b[49m\u001b[38;5;241;43m=\u001b[39;49m\u001b[43mextra_args\u001b[49m\u001b[43m)\u001b[49m\n",
      "File \u001b[0;32m~/miniconda3/lib/python3.12/site-packages/nbconvert/utils/pandoc.py:50\u001b[0m, in \u001b[0;36mpandoc\u001b[0;34m(source, fmt, to, extra_args, encoding)\u001b[0m\n\u001b[1;32m     47\u001b[0m     cmd\u001b[38;5;241m.\u001b[39mextend(extra_args)\n\u001b[1;32m     49\u001b[0m \u001b[38;5;66;03m# this will raise an exception that will pop us out of here\u001b[39;00m\n\u001b[0;32m---> 50\u001b[0m \u001b[43mcheck_pandoc_version\u001b[49m\u001b[43m(\u001b[49m\u001b[43m)\u001b[49m\n\u001b[1;32m     52\u001b[0m \u001b[38;5;66;03m# we can safely continue\u001b[39;00m\n\u001b[1;32m     53\u001b[0m p \u001b[38;5;241m=\u001b[39m subprocess\u001b[38;5;241m.\u001b[39mPopen(cmd, stdin\u001b[38;5;241m=\u001b[39msubprocess\u001b[38;5;241m.\u001b[39mPIPE, stdout\u001b[38;5;241m=\u001b[39msubprocess\u001b[38;5;241m.\u001b[39mPIPE)  \u001b[38;5;66;03m# noqa: S603\u001b[39;00m\n",
      "File \u001b[0;32m~/miniconda3/lib/python3.12/site-packages/nbconvert/utils/pandoc.py:98\u001b[0m, in \u001b[0;36mcheck_pandoc_version\u001b[0;34m()\u001b[0m\n\u001b[1;32m     95\u001b[0m \u001b[38;5;28;01mif\u001b[39;00m check_pandoc_version\u001b[38;5;241m.\u001b[39m_cached \u001b[38;5;129;01mis\u001b[39;00m \u001b[38;5;129;01mnot\u001b[39;00m \u001b[38;5;28;01mNone\u001b[39;00m:  \u001b[38;5;66;03m# type:ignore[attr-defined]\u001b[39;00m\n\u001b[1;32m     96\u001b[0m     \u001b[38;5;28;01mreturn\u001b[39;00m check_pandoc_version\u001b[38;5;241m.\u001b[39m_cached  \u001b[38;5;66;03m# type:ignore[attr-defined]\u001b[39;00m\n\u001b[0;32m---> 98\u001b[0m v \u001b[38;5;241m=\u001b[39m \u001b[43mget_pandoc_version\u001b[49m\u001b[43m(\u001b[49m\u001b[43m)\u001b[49m\n\u001b[1;32m     99\u001b[0m \u001b[38;5;28;01mif\u001b[39;00m v \u001b[38;5;129;01mis\u001b[39;00m \u001b[38;5;28;01mNone\u001b[39;00m:\n\u001b[1;32m    100\u001b[0m     warnings\u001b[38;5;241m.\u001b[39mwarn(\n\u001b[1;32m    101\u001b[0m         \u001b[38;5;124m\"\u001b[39m\u001b[38;5;124mSorry, we cannot determine the version of pandoc.\u001b[39m\u001b[38;5;130;01m\\n\u001b[39;00m\u001b[38;5;124m\"\u001b[39m\n\u001b[1;32m    102\u001b[0m         \u001b[38;5;124m\"\u001b[39m\u001b[38;5;124mPlease consider reporting this issue and include the\u001b[39m\u001b[38;5;124m\"\u001b[39m\n\u001b[0;32m   (...)\u001b[0m\n\u001b[1;32m    105\u001b[0m         stacklevel\u001b[38;5;241m=\u001b[39m\u001b[38;5;241m2\u001b[39m,\n\u001b[1;32m    106\u001b[0m     )\n",
      "File \u001b[0;32m~/miniconda3/lib/python3.12/site-packages/nbconvert/utils/pandoc.py:75\u001b[0m, in \u001b[0;36mget_pandoc_version\u001b[0;34m()\u001b[0m\n\u001b[1;32m     73\u001b[0m \u001b[38;5;28;01mif\u001b[39;00m __version \u001b[38;5;129;01mis\u001b[39;00m \u001b[38;5;28;01mNone\u001b[39;00m:\n\u001b[1;32m     74\u001b[0m     \u001b[38;5;28;01mif\u001b[39;00m \u001b[38;5;129;01mnot\u001b[39;00m shutil\u001b[38;5;241m.\u001b[39mwhich(\u001b[38;5;124m\"\u001b[39m\u001b[38;5;124mpandoc\u001b[39m\u001b[38;5;124m\"\u001b[39m):\n\u001b[0;32m---> 75\u001b[0m         \u001b[38;5;28;01mraise\u001b[39;00m PandocMissing()\n\u001b[1;32m     77\u001b[0m     out \u001b[38;5;241m=\u001b[39m subprocess\u001b[38;5;241m.\u001b[39mcheck_output([\u001b[38;5;124m\"\u001b[39m\u001b[38;5;124mpandoc\u001b[39m\u001b[38;5;124m\"\u001b[39m, \u001b[38;5;124m\"\u001b[39m\u001b[38;5;124m-v\u001b[39m\u001b[38;5;124m\"\u001b[39m])  \u001b[38;5;66;03m# noqa: S607, S603\u001b[39;00m\n\u001b[1;32m     78\u001b[0m     out_lines \u001b[38;5;241m=\u001b[39m out\u001b[38;5;241m.\u001b[39msplitlines()\n",
      "\u001b[0;31mPandocMissing\u001b[0m: Pandoc wasn't found.\nPlease check that pandoc is installed:\nhttps://pandoc.org/installing.html"
     ]
    }
   ],
   "source": [
    "# Save your notebook first, then run this cell to export your submission.\n",
    "grader.export(run_tests=True)"
   ]
  },
  {
   "cell_type": "markdown",
   "metadata": {},
   "source": [
    " "
   ]
  }
 ],
 "metadata": {
  "kernelspec": {
   "display_name": "Python 3 (ipykernel)",
   "language": "python",
   "name": "python3"
  },
  "language_info": {
   "codemirror_mode": {
    "name": "ipython",
    "version": 3
   },
   "file_extension": ".py",
   "mimetype": "text/x-python",
   "name": "python",
   "nbconvert_exporter": "python",
   "pygments_lexer": "ipython3",
   "version": "3.12.4"
  },
  "otter": {
   "OK_FORMAT": true,
   "tests": {
    "q2": {
     "name": "q2",
     "points": 1,
     "suites": [
      {
       "cases": [
        {
         "code": ">>> def test_q2(random_array):\n...     assert random_array.shape == (3, 3), f'Expected shape (3, 3), but got {random_array.shape}'\n...     assert np.all(random_array >= 1) and np.all(random_array <= 10), f'Expected all elements to be in the range 1 to 10, but found elements outside this range.'\n>>> test_q2(random_array)\n",
         "hidden": false,
         "locked": false
        }
       ],
       "scored": true,
       "setup": "",
       "teardown": "",
       "type": "doctest"
      }
     ]
    },
    "q3": {
     "name": "q3",
     "points": null,
     "suites": [
      {
       "cases": [
        {
         "code": ">>> def test_q3(a1, a2):\n...     assert np.allclose(dot_product, 32), f'Expected dot product {32}, but got {dot_product}'\n>>> test_q3(a1, a2)\n",
         "hidden": false,
         "locked": false
        }
       ],
       "scored": true,
       "setup": "",
       "teardown": "",
       "type": "doctest"
      }
     ]
    },
    "q4": {
     "name": "q4",
     "points": null,
     "suites": [
      {
       "cases": [
        {
         "code": ">>> def test_q4(M1, M2):\n...     assert np.allclose(product, [[19, 22], [43, 50]]), f'Expected matrix product [[19, 22], [43, 50]], but got {product}'\n>>> test_q4(M1, M2)\n",
         "hidden": false,
         "locked": false
        }
       ],
       "scored": true,
       "setup": "",
       "teardown": "",
       "type": "doctest"
      }
     ]
    },
    "q5": {
     "name": "q5",
     "points": 3,
     "suites": [
      {
       "cases": [
        {
         "code": ">>> def test_q5(a1, b1, result):\n...     assert np.allclose(result, [[2, 10, 8, 11], [4, 9, 2, 11], [6, 10, 4, 5]]), f'Expected result [[ 2, 10,  8, 11], [ 4,  9,  2, 11], [ 6, 10,  4,  5]], but got {result}'\n>>> test_q5(a1, b1, result)\n",
         "hidden": false,
         "locked": false
        }
       ],
       "scored": true,
       "setup": "",
       "teardown": "",
       "type": "doctest"
      }
     ]
    },
    "q6": {
     "name": "q6",
     "points": 2,
     "suites": [
      {
       "cases": [
        {
         "code": ">>> def test_q6(random_image, brightness_adjustments, changed_image):\n...     assert np.allclose(changed_image, random_image * brightness_adjustments, atol=1), f'Expected changed image {random_image * brightness_adjustments}, but got {changed_image}'\n>>> test_q6(random_image, brightness_adjustments, changed_image)\n",
         "hidden": false,
         "locked": false
        }
       ],
       "scored": true,
       "setup": "",
       "teardown": "",
       "type": "doctest"
      }
     ]
    },
    "q7": {
     "name": "q7",
     "points": null,
     "suites": [
      {
       "cases": [
        {
         "code": ">>> def test_q7(v1, magnitude):\n...     assert np.allclose(magnitude, 18.76166303929372), f'Expected magnitude {18.76166303929372}, but got {magnitude}'\n>>> test_q7(v1, magnitude)\n",
         "hidden": false,
         "locked": false
        }
       ],
       "scored": true,
       "setup": "",
       "teardown": "",
       "type": "doctest"
      }
     ]
    },
    "q8": {
     "name": "q8",
     "points": 4,
     "suites": [
      {
       "cases": [
        {
         "code": ">>> def test_eigenvalues(M3, eigenvalues):\n...     assert np.allclose(eigenvalues, [94.7493719, -4.74937186, -8.79571373e-16]), f'Expected eigenvalues {[94.7493719, -4.74937186, -8.79571373e-16]}, but got {eigenvalues}'\n>>> \n>>> def test_eigenvectors(M3, eigenvectors):\n...     assert np.allclose(eigenvectors, [[-0.28263801, -0.77528584, 0.40824829], [-0.5382937, -0.07401341, -0.81649658], [-0.7939494, 0.62725902, 0.40824829]]), f'Expected eigenvectors {[[-0.28263801, -0.77528584, 0.40824829], [-0.5382937, -0.07401341, -0.81649658], [-0.7939494, 0.62725902, 0.40824829]]}, but got {eigenvectors}'\n>>> \n>>> def test_eigen_reconstruction(M3, eigenvalues, eigenvectors):\n...     a = [[-0.49632839, -0.58968243, -0.68303647], [-0.89393102, -0.21497447, 0.46398207], [0.40824829, -0.81649658, 0.40824829]]\n...     b = [[94.7493719, 0.0, 0.0], [0.0, -4.74937186, 0.0], [0.0, 0.0, -8.79571373e-16]]\n...     M3_reconstructed = eigenvectors @ b @ a\n...     assert np.allclose(M3_reconstructed, M3), f'Eigen reconstruction failed'\n>>> \n>>> def test_svd(M3):\n...     assert np.allclose(M3, U @ np.diag(s) @ V), 'SVD reconstruction failed'\n>>> test_eigenvalues(M3, eigenvalues)\n>>> test_eigenvectors(M3, eigenvectors)\n>>> test_eigen_reconstruction(M3, eigenvalues, eigenvectors)\n>>> test_svd(M3)\n",
         "hidden": false,
         "locked": false
        }
       ],
       "scored": true,
       "setup": "",
       "teardown": "",
       "type": "doctest"
      }
     ]
    }
   }
  }
 },
 "nbformat": 4,
 "nbformat_minor": 4
}
