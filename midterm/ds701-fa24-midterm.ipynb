{
 "cells": [
  {
   "cell_type": "code",
   "execution_count": null,
   "metadata": {
    "deletable": false,
    "editable": false
   },
   "outputs": [],
   "source": [
    "# Initialize Otter\n",
    "import otter\n",
    "grader = otter.Notebook(\"ds701-fa24-midterm.ipynb\")"
   ]
  },
  {
   "cell_type": "markdown",
   "metadata": {},
   "source": [
    "# NBA Shot Data Midterm Challenge"
   ]
  },
  {
   "cell_type": "code",
   "execution_count": null,
   "metadata": {},
   "outputs": [],
   "source": [
    "import pandas as pd\n",
    "import numpy as np\n",
    "import seaborn as sns\n",
    "import matplotlib.pyplot as plt\n",
    "import os\n",
    "\n",
    "pd.set_option('display.max_columns', 50)\n",
    "pd.set_option('display.width', 1000)\n",
    "\n",
    "if not os.path.exists(\"./datasets\"):\n",
    "    os.makedirs(\"./datasets\")\n",
    "    os.system(\"unzip ./archive.zip -d ./datasets\")\n",
    "\n",
    "datasets = sorted(os.listdir(\"./datasets\"))\n",
    "print(datasets)"
   ]
  },
  {
   "cell_type": "markdown",
   "metadata": {},
   "source": [
    "You have the following datasets in the ./datasets directory:\n",
    "\n",
    "* train.csv\n",
    "* test.csv\n",
    "\n",
    "For questions 1, 2, and 4, work with the `train.csv` file. Use both `train.csv` and `test.csv` for question 3 (the prediction task)."
   ]
  },
  {
   "cell_type": "markdown",
   "metadata": {},
   "source": [
    "## Part 1: Exploratory analysis, visualization and outlier detection."
   ]
  },
  {
   "cell_type": "markdown",
   "metadata": {},
   "source": [
    "\n",
    "Please answer the following seven questions."
   ]
  },
  {
   "cell_type": "code",
   "execution_count": null,
   "metadata": {},
   "outputs": [],
   "source": [
    "df = pd.read_csv(\"./datasets/train.csv\")"
   ]
  },
  {
   "cell_type": "markdown",
   "metadata": {
    "deletable": false,
    "editable": false
   },
   "source": [
    "<!-- BEGIN QUESTION -->\n",
    "\n",
    "### Question 1-1: Unique Players\n",
    "\n",
    "How many unique players are there? Return this value as an integer."
   ]
  },
  {
   "cell_type": "code",
   "execution_count": null,
   "metadata": {
    "tags": []
   },
   "outputs": [],
   "source": [
    "def find_n_unique_players(df):\n",
    "    \"\"\"\n",
    "    Find and return the number of unique players as an integer.\n",
    "    \"\"\"\n",
    "    ...\n",
    "\n",
    "n_unique_players = find_n_unique_players(df)\n",
    "print(\"Number of unique players\", n_unique_players)"
   ]
  },
  {
   "cell_type": "markdown",
   "metadata": {
    "deletable": false,
    "editable": false
   },
   "source": [
    "<!-- END QUESTION -->\n",
    "\n",
    "<!-- BEGIN QUESTION -->\n",
    "\n",
    "### Question 1-2: Played most games\n",
    "\n",
    "Which player has played in the most games normalized by number of games per season (82) played in the dataset? \n",
    "\n",
    "Return a Pandas Series with an index of ['PLAYER_NAME', 'GAME_COUNT', 'GAMES_PER_SEASON']."
   ]
  },
  {
   "cell_type": "code",
   "execution_count": null,
   "metadata": {
    "tags": []
   },
   "outputs": [],
   "source": [
    "def find_top_player_most_games(df):\n",
    "    \"\"\"\n",
    "    Find and return the player with the most games normalized by number of games per season (82) played in the dataset.\n",
    "    \"\"\"\n",
    "    ...\n",
    "\n",
    "top_player = find_top_player_most_games(df)\n",
    "print(f\"Player with the most games normalized by seasons: {top_player['PLAYER_NAME']} with {top_player['GAMES_PER_SEASON']} games per season\")\n"
   ]
  },
  {
   "cell_type": "markdown",
   "metadata": {
    "deletable": false,
    "editable": false
   },
   "source": [
    "<!-- END QUESTION -->\n",
    "\n",
    "<!-- BEGIN QUESTION -->\n",
    "\n",
    "### Question 1-3: Highest Shot Players\n",
    "\n",
    "Find the 10 players with the highest shot success rate in the 4th quarter that have taken at least 2000 shots in the 4th quarter. \n",
    "\n",
    "Return a Pandas dataframe of length 10 with the following columns \n",
    "\n",
    "- 'PLAYER_NAME' \n",
    "- 'SHOT_COUNT'  \n",
    "- 'SHOTS_MADE' \n",
    "- 'SHOT_SUCCESS_RATE'"
   ]
  },
  {
   "cell_type": "code",
   "execution_count": null,
   "metadata": {
    "tags": []
   },
   "outputs": [],
   "source": [
    "def find_top_10_players_q4(df):\n",
    "    \"\"\"\n",
    "    Find and return the 10 players with the highest shot success rate in the 4th quarter that have taken at least 2000 shots in the 4th quarter.\n",
    "    \"\"\"\n",
    "    ...\n",
    "\n",
    "\n",
    "top_players_q4 = find_top_10_players_q4(df)\n",
    "print(top_players_q4)\n"
   ]
  },
  {
   "cell_type": "markdown",
   "metadata": {
    "deletable": false,
    "editable": false
   },
   "source": [
    "<!-- END QUESTION -->\n",
    "\n",
    "<!-- BEGIN QUESTION -->\n",
    "\n",
    "### Question 1-4: Most shots made\n",
    "\n",
    "Find the 10 players with the most SHOT_MADE beyond 23 feet of the basket who played in more than 500 games.\n",
    "\n",
    "Return a Pandas dataframe of length 10 with the following columns \n",
    "\n",
    "- 'PLAYER_NAME' \n",
    "- 'GAME_COUNT'  \n",
    "- 'SHOTS_MADE_BEYOND_23'"
   ]
  },
  {
   "cell_type": "code",
   "execution_count": null,
   "metadata": {
    "tags": []
   },
   "outputs": [],
   "source": [
    "def find_top_players_beyond_23_feet(df):\n",
    "    \"\"\"\n",
    "    Find and return the 10 players with the most SHOT_MADE beyond 23 feet of the basket who played in more than 500 games.\n",
    "    \"\"\"\n",
    "    ...\n",
    "\n",
    "top_players_beyond_23 = find_top_players_beyond_23_feet(df)\n",
    "print(top_players_beyond_23)"
   ]
  },
  {
   "cell_type": "markdown",
   "metadata": {
    "deletable": false,
    "editable": false
   },
   "source": [
    "<!-- END QUESTION -->\n",
    "\n",
    "<!-- BEGIN QUESTION -->\n",
    "\n",
    "### Question 1-5: Close shots made\n",
    "\n",
    "Find the 10 players with the most SHOT_MADE within 10 feet of the basket who played in more than 500 games.\n",
    "\n",
    "Return a Pandas dataframe of length 10 with the following columns \n",
    "\n",
    "- 'PLAYER_NAME' \n",
    "- 'GAME_COUNT'  \n",
    "- 'SHOTS_MADE_INSIDE_10'\n"
   ]
  },
  {
   "cell_type": "code",
   "execution_count": null,
   "metadata": {
    "tags": []
   },
   "outputs": [],
   "source": [
    "def find_top_players_within_10_feet(df):\n",
    "    \"\"\"\n",
    "    Find and return the 10 players with the most SHOT_MADE within 10 feet of the basket who played in more than 500 games.\n",
    "    \"\"\"\n",
    "    ...\n",
    "\n",
    "top_players_below_10 = find_top_players_within_10_feet(df)\n",
    "print(top_players_below_10)"
   ]
  },
  {
   "cell_type": "markdown",
   "metadata": {
    "deletable": false,
    "editable": false
   },
   "source": [
    "<!-- END QUESTION -->\n",
    "\n",
    "<!-- BEGIN QUESTION -->\n",
    "\n",
    "### Question 1-6: Shot Types\n",
    "\n",
    "For each position, find the 2 most successful types of action taken during a shot (ACTION_TYPE). \n",
    "\n",
    "Return a dataframe with the columns:\n",
    "\n",
    "- 'POSITION'                 \n",
    "- 'ACTION_TYPE'  \n",
    "- 'SUCCESSFUL_SHOTS'"
   ]
  },
  {
   "cell_type": "code",
   "execution_count": null,
   "metadata": {
    "tags": []
   },
   "outputs": [],
   "source": [
    "def find_top_actions_by_position(df):\n",
    "    \"\"\"\n",
    "    Find and return the 2 most successful types of action taken during a shot for each position.\n",
    "    \"\"\"\n",
    "    ...\n",
    "\n",
    "top_actions_by_position = find_top_actions_by_position(df)\n",
    "print(top_actions_by_position)"
   ]
  },
  {
   "cell_type": "markdown",
   "metadata": {
    "deletable": false,
    "editable": false
   },
   "source": [
    "<!-- END QUESTION -->\n",
    "\n",
    "<!-- BEGIN QUESTION -->\n",
    "\n",
    "### Question 1-7: Additional Insight\n",
    "\n",
    "One more insight of your choice. You can, for example, create a statistic that represents how **clutch** a player is. For example, how many shots they make in the last 4 minutes of the 4th quarter. You can of course choose something different, and this does not have to be at the player level - could be team-level instead. "
   ]
  },
  {
   "cell_type": "code",
   "execution_count": null,
   "metadata": {
    "tags": []
   },
   "outputs": [],
   "source": [
    "...\n"
   ]
  },
  {
   "cell_type": "markdown",
   "metadata": {
    "deletable": false,
    "editable": false
   },
   "source": [
    "<!-- END QUESTION -->\n",
    "\n",
    "<!-- BEGIN QUESTION -->\n",
    "\n",
    "## Question 2: Clustering for Player Profiles\n"
   ]
  },
  {
   "cell_type": "markdown",
   "metadata": {
    "deletable": false,
    "editable": false
   },
   "source": [
    "\n",
    "Create player profiles based on attributes like (not limited to these):\n",
    "\n",
    "- Shot types (SHOT_TYPE, ACTION_TYPE).\n",
    "- Shot zones (BASIC_ZONE, ZONE_NAME).\n",
    "- Shot success rate (SHOT_MADE).\n",
    "- Shot distance (SHOT_DISTANCE).\n",
    "\n",
    "Consider subsets of years to make the clustering faster:\n",
    "\n",
    "- 2012-2016\n",
    "- 2016-2020\n",
    "- 2020-2024\n",
    "\n",
    "Based on the metric results, pick a k-value and plot centroids over these three 4-year periods and analyze - how do the clusters change? \n",
    "\n",
    "Add some additional analysis based on the players included in the cluster. Does the cluster have a common trait or explanation? Can you explain outliers? Then, try to improve the silhouette score by experimenting with other features and/or dimensionality reduction techniques."
   ]
  },
  {
   "cell_type": "code",
   "execution_count": null,
   "metadata": {
    "tags": []
   },
   "outputs": [],
   "source": [
    "..."
   ]
  },
  {
   "cell_type": "markdown",
   "metadata": {
    "deletable": false,
    "editable": false
   },
   "source": [
    "<!-- END QUESTION -->\n",
    "\n",
    "<!-- BEGIN QUESTION -->\n",
    "\n",
    "## 3. Prediction Task (No Deep Learning)\n"
   ]
  },
  {
   "cell_type": "markdown",
   "metadata": {
    "deletable": false,
    "editable": false
   },
   "source": [
    "\n",
    "Build a model to predict shot success (SHOT_MADE) given available features, and improve their accuracy by creating features and hyperparameter tuning. You may drop some features if you feel that they would improve your accuracy. \n",
    "\n",
    "You are given the train and test splits (run the first cell and look into the `datasets` folder). Note that the test file does NOT contain labels! The test.csv is what you will ultimately make predictions on. You are free to split the train.csv file into its own train-test splits as you like. \n",
    "\n",
    "Feature engineering can include:\n",
    "- Spatial features (shot angle derived from LOC_X, LOC_Y).\n",
    "- Shot difficulty: A derived feature combining SHOT_DISTANCE, LOC_X, LOC_Y, and SHOT_TYPE.\n",
    "- Player fatigue: An engineered metric estimating player fatigue based on game date (GAME_DATE) and time in the game.\n",
    "\n",
    "Prediction methods can include logistic regression, decision trees, random forests, gradient boosting, etc (including things we haven't covered!). However, you are NOT allowed to use deep learning for this task. \n",
    "\n",
    "Objective: Beat the benchmark accuracy score on the test set (`test.csv`). Create a submission file following the format of 'submission_example.csv' and upload to Kaggle. Kaggle will run accuracy calculation and show you how you rank amongst the submissions of others."
   ]
  },
  {
   "cell_type": "markdown",
   "metadata": {
    "deletable": false,
    "editable": false
   },
   "source": [
    "#### Creating the submission file. \n"
   ]
  },
  {
   "cell_type": "markdown",
   "metadata": {
    "deletable": false,
    "editable": false
   },
   "source": [
    "\n",
    "You should follow the format of `submission.csv` (also provided):\n",
    "\n",
    "```{python}\n",
    "submission_df = pd.read_csv(\"./submission.csv\", index_col=0)\n",
    "submission_df['SHOT_MADE'] = # your predictions\n",
    "submission_df.to_csv(\"./submission.csv\", index=True, index_label=\"ID\")\n",
    "```\n",
    "\n",
    "Then upload the file to the Kaggle competition to get your leaderboard score. "
   ]
  },
  {
   "cell_type": "code",
   "execution_count": null,
   "metadata": {
    "tags": []
   },
   "outputs": [],
   "source": [
    "..."
   ]
  },
  {
   "cell_type": "markdown",
   "metadata": {
    "deletable": false,
    "editable": false
   },
   "source": [
    "<!-- END QUESTION -->\n",
    "\n",
    "<!-- BEGIN QUESTION -->\n",
    "\n",
    "## Question 4: Optional (Bonus) Advanced visualizations and analysis"
   ]
  },
  {
   "cell_type": "markdown",
   "metadata": {
    "deletable": false,
    "editable": false
   },
   "source": [
    "\n",
    "This is an optional problem worth 5 bonus points. It is an open-ended question. We are asking you to create a single novel and possibly interactive visualization\n",
    "that shows an interesting insight into the data. Some examples could be:\n",
    "\n",
    "- a shot heatmap for players or teams,\n",
    "- game-winning (or tying) clutch shot analysis\n",
    "- career makes from a particular player shown on a court graphic\n",
    "- progression of shots from a particular player (or players at a particular position) over time\n",
    "\n",
    "However you are free to design this yourself. Earning the bonus should be beyond the scope of a simple EDA and should involve a few steps of analysis prior to the visualization. \n",
    "\n",
    "Your plots should be on a professional level visually. This means they should have proper labels, titles, legends, and the font sizes should make the visualization clear.\n",
    "\n",
    "Since this part is more open-ended than the others, it is optional. "
   ]
  },
  {
   "cell_type": "code",
   "execution_count": null,
   "metadata": {
    "tags": []
   },
   "outputs": [],
   "source": [
    "..."
   ]
  },
  {
   "cell_type": "markdown",
   "metadata": {
    "deletable": false,
    "editable": false
   },
   "source": [
    "<!-- END QUESTION -->\n",
    "\n"
   ]
  },
  {
   "cell_type": "markdown",
   "metadata": {
    "deletable": false,
    "editable": false
   },
   "source": [
    "## Submission\n",
    "\n",
    "Make sure you have run all cells in your notebook in order before running the cell below, so that all images/graphs appear in the output. The cell below will generate a zip file for you to submit. **Please save before exporting!**"
   ]
  },
  {
   "cell_type": "code",
   "execution_count": null,
   "metadata": {
    "deletable": false,
    "editable": false
   },
   "outputs": [],
   "source": [
    "# Save your notebook first, then run this cell to export your submission.\n",
    "grader.export(run_tests=True)"
   ]
  },
  {
   "cell_type": "markdown",
   "metadata": {},
   "source": [
    " "
   ]
  }
 ],
 "metadata": {
  "kernelspec": {
   "display_name": "ds701",
   "language": "python",
   "name": "python3"
  },
  "language_info": {
   "codemirror_mode": {
    "name": "ipython",
    "version": 3
   },
   "file_extension": ".py",
   "mimetype": "text/x-python",
   "name": "python",
   "nbconvert_exporter": "python",
   "pygments_lexer": "ipython3",
   "version": "3.12.4"
  },
  "otter": {
   "OK_FORMAT": true,
   "tests": {}
  }
 },
 "nbformat": 4,
 "nbformat_minor": 2
}
